{
 "cells": [
  {
   "cell_type": "code",
   "execution_count": 12,
   "metadata": {},
   "outputs": [],
   "source": [
    "from bokeh.plotting import figure\n",
    "from bokeh.io import output_file, show \n",
    "import pandas\n",
    "\n",
    "df = pandas.read_csv(\"original.csv\",parse_dates=[\"Date\"])\n",
    "p = figure(width=500,height=250,x_axis_type=\"datetime\",sizing_mode='scale_both')\n",
    "\n",
    "p.line(df[\"Date\"],df[\"Close\"],color=\"orange\",alpha=0.5)\n",
    "output_file(\"timeseries.html\")\n",
    "show(p)\n"
   ]
  },
  {
   "cell_type": "code",
   "execution_count": null,
   "metadata": {},
   "outputs": [],
   "source": []
  }
 ],
 "metadata": {
  "kernelspec": {
   "display_name": "Python 3",
   "language": "python",
   "name": "python3"
  },
  "language_info": {
   "codemirror_mode": {
    "name": "ipython",
    "version": 3
   },
   "file_extension": ".py",
   "mimetype": "text/x-python",
   "name": "python",
   "nbconvert_exporter": "python",
   "pygments_lexer": "ipython3",
   "version": "3.8.2"
  }
 },
 "nbformat": 4,
 "nbformat_minor": 4
}
