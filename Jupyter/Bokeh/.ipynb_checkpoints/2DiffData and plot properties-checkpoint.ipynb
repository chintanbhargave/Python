{
 "cells": [
  {
   "cell_type": "code",
   "execution_count": 8,
   "metadata": {},
   "outputs": [],
   "source": [
    "#  Basic bokeh line graph\n",
    "from bokeh.plotting import figure\n",
    "from bokeh.io import output_file, show \n",
    "import pandas\n",
    "\n",
    "#  Prepare data\n",
    "df = pandas.read_csv(\"data.csv\")\n",
    "x = df[\"x\"]\n",
    "y = df[\"y\"]\n",
    "\n",
    "#  Prepare output file\n",
    "output_file(\"line.html\")\n",
    "\n",
    "#  Creating a figure object\n",
    "f = figure()\n",
    "\n",
    "#  Create a line plot\n",
    "f.line(x,y)\n",
    "#f.triangle(x,y)\n",
    "#f.circle(x,y)\n",
    "\n",
    "#  Writing a plot into figure object\n",
    "show(f)"
   ]
  },
  {
   "cell_type": "code",
   "execution_count": 9,
   "metadata": {},
   "outputs": [
    {
     "data": {
      "text/plain": [
       "['.ipynb_checkpoints',\n",
       " '1BasicGraph.ipynb',\n",
       " '2.ipynb',\n",
       " 'bachelors.csv',\n",
       " 'data.csv',\n",
       " 'line.html']"
      ]
     },
     "execution_count": 9,
     "metadata": {},
     "output_type": "execute_result"
    }
   ],
   "source": [
    "import os\n",
    "os.listdir()"
   ]
  },
  {
   "cell_type": "code",
   "execution_count": 11,
   "metadata": {},
   "outputs": [],
   "source": [
    "from bokeh.plotting import figure\n",
    "from bokeh.io import output_file, show \n",
    "import pandas\n",
    "\n",
    "#  Prepare data\n",
    "df = pandas.read_csv(\"bachelors.csv\")\n",
    "x = df[\"Year\"]\n",
    "y = df[\"Engineering\"]\n",
    "\n",
    "#  Prepare output file\n",
    "output_file(\"line_bachelors.html\")\n",
    "\n",
    "#  Creating a figure object\n",
    "f = figure()\n",
    "\n",
    "#  Create a line plot\n",
    "f.line(x,y)\n",
    "#f.triangle(x,y)\n",
    "#f.circle(x,y)\n",
    "\n",
    "#  Writing a plot into figure object\n",
    "show(f)"
   ]
  },
  {
   "cell_type": "code",
   "execution_count": 16,
   "metadata": {},
   "outputs": [],
   "source": [
    "# Adding diff plot properties\n",
    "\n",
    "import pandas\n",
    "from bokeh.plotting import figure\n",
    "from bokeh.io import output_file, show \n",
    " \n",
    "p=figure(plot_width=500,plot_height=400, tools='pan')\n",
    " \n",
    "p.title.text=\"Cool Data\"\n",
    "p.title.text_color=\"Gray\"\n",
    "p.title.text_font=\"times\"\n",
    "p.title.text_font_style=\"bold\"\n",
    "p.xaxis.minor_tick_line_color=None\n",
    "p.yaxis.minor_tick_line_color=None\n",
    "p.xaxis.axis_label=\"Date\"\n",
    "p.yaxis.axis_label=\"Intensity\"    \n",
    " \n",
    "p.line([1,2,3],[4,5,6])\n",
    "output_file(\"graph.html\")\n",
    "show(p)"
   ]
  },
  {
   "cell_type": "code",
   "execution_count": 22,
   "metadata": {},
   "outputs": [],
   "source": [
    "# Adding diff plot properties\n",
    "\n",
    "import pandas\n",
    "from bokeh.plotting import figure\n",
    "from bokeh.io import output_file, show \n",
    "\n",
    "df = pandas.read_excel(\"weather.xlsx\")\n",
    "x = df[\"Temperature\"]/10\n",
    "y = df[\"Pressure\"]/10\n",
    "\n",
    "p=figure(plot_width=500,plot_height=400, tools='pan')\n",
    " \n",
    "p.title.text=\"Temperature and Air Pressure\"\n",
    "p.title.text_color=\"Gray\"\n",
    "p.title.text_font=\"times\"\n",
    "p.title.text_font_style=\"bold\"\n",
    "p.xaxis.minor_tick_line_color=None\n",
    "p.yaxis.minor_tick_line_color=None\n",
    "p.xaxis.axis_label=\"Pressure(hPa)\"\n",
    "p.yaxis.axis_label=\"Temperature(C)\"    \n",
    " \n",
    "p.circle(x,y,size=0.5)\n",
    "output_file(\"weather.html\")\n",
    "show(p)"
   ]
  }
 ],
 "metadata": {
  "kernelspec": {
   "display_name": "Python 3",
   "language": "python",
   "name": "python3"
  },
  "language_info": {
   "codemirror_mode": {
    "name": "ipython",
    "version": 3
   },
   "file_extension": ".py",
   "mimetype": "text/x-python",
   "name": "python",
   "nbconvert_exporter": "python",
   "pygments_lexer": "ipython3",
   "version": "3.8.2"
  }
 },
 "nbformat": 4,
 "nbformat_minor": 4
}
