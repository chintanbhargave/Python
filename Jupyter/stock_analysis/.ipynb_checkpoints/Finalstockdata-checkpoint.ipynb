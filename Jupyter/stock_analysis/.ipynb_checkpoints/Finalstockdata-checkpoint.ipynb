{
 "cells": [
  {
   "cell_type": "code",
   "execution_count": 36,
   "metadata": {},
   "outputs": [],
   "source": [
    "import datetime\n",
    "from pandas_datareader import data\n",
    "from bokeh.plotting import figure, show, output_file\n",
    "\n",
    "start_date = datetime.datetime(2020,1,1)\n",
    "end_date = datetime.datetime(2020,5,22)\n",
    "\n",
    "df = data.DataReader(name=\"GOOG\",data_source=\"yahoo\",start=start_date,end=end_date)\n",
    "\n",
    "date_increase = df.index[df.Close > df.Open]\n",
    "date_decrease = df.index[df.Close < df.Open]\n",
    "\n",
    "def inc_dec(c,o):\n",
    "    if c > o:\n",
    "        value = \"Increase\"\n",
    "    elif c < o:\n",
    "        value = \"Decrease\"\n",
    "    else:\n",
    "        value = \"equal\"\n",
    "    return value    \n",
    "        \n",
    "df[\"Status\"] = [inc_dec(c,o) for c,o in zip(df.Close,df.Open)]\n",
    "df[\"Middle\"] = (df.Open + df.Close)/2\n",
    "df[\"Height\"] = abs(df.Close - df.Open)\n",
    "\n",
    "\n",
    "\n",
    "p = figure(x_axis_type='datetime', width=1000, height=300, sizing_mode=\"scale_width\")\n",
    "p.title.text = \"StockAnalysisGraph\"\n",
    "p.grid.grid_line_alpha=0.3\n",
    "\n",
    "#p.segment(x val of highest pt,y val of highest pt,x val for lower pt,y val for lower pt)\n",
    "p.segment(df.index, df.High, df.index, df.Low, color=\"black\")\n",
    "\n",
    "#p.rect(x coordinate,central y coordinate(centre of rect),width of rect(12 hrs into milisec),height of rect(diff bet open and close val))\n",
    "hours_12 = 12*60*60*1000\n",
    "\n",
    "p.rect(df.index[df.Status==\"Increase\"], df.Middle[df.Status==\"Increase\"],hours_12,df.Height[df.Status==\"Increase\"],\n",
    "       fill_color=\"#00ab00\",line_color=\"black\")\n",
    "\n",
    "p.rect(df.index[df.Status==\"Decrease\"], df.Middle[df.Status==\"Decrease\"],hours_12,df.Height[df.Status==\"Decrease\"],\n",
    "       fill_color=\"#de0000\",line_color=\"black\")\n",
    "\n",
    "output_file(\"Finalstock.html\")\n",
    "show(p)"
   ]
  },
  {
   "cell_type": "code",
   "execution_count": null,
   "metadata": {},
   "outputs": [],
   "source": []
  }
 ],
 "metadata": {
  "kernelspec": {
   "display_name": "Python 3",
   "language": "python",
   "name": "python3"
  },
  "language_info": {
   "codemirror_mode": {
    "name": "ipython",
    "version": 3
   },
   "file_extension": ".py",
   "mimetype": "text/x-python",
   "name": "python",
   "nbconvert_exporter": "python",
   "pygments_lexer": "ipython3",
   "version": "3.8.2"
  }
 },
 "nbformat": 4,
 "nbformat_minor": 4
}
